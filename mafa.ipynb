{
  "nbformat": 4,
  "nbformat_minor": 0,
  "metadata": {
    "colab": {
      "name": "mafa.ipynb",
      "provenance": [],
      "authorship_tag": "ABX9TyMJIZYqYTDRdL5Uq1Ud/AqM",
      "include_colab_link": true
    },
    "kernelspec": {
      "name": "python3",
      "display_name": "Python 3"
    },
    "language_info": {
      "name": "python"
    }
  },
  "cells": [
    {
      "cell_type": "markdown",
      "metadata": {
        "id": "view-in-github",
        "colab_type": "text"
      },
      "source": [
        "<a href=\"https://colab.research.google.com/github/pranjul6386/covid19/blob/master/mafa.ipynb\" target=\"_parent\"><img src=\"https://colab.research.google.com/assets/colab-badge.svg\" alt=\"Open In Colab\"/></a>"
      ]
    },
    {
      "cell_type": "code",
      "metadata": {
        "colab": {
          "base_uri": "https://localhost:8080/"
        },
        "id": "43IYP34xuaEG",
        "outputId": "04c588e6-96a5-4428-cffe-ce567cc64542"
      },
      "source": [
        "from google.colab import drive\n",
        "drive.mount('/content/drive')"
      ],
      "execution_count": 1,
      "outputs": [
        {
          "output_type": "stream",
          "text": [
            "Mounted at /content/drive\n"
          ],
          "name": "stdout"
        }
      ]
    },
    {
      "cell_type": "code",
      "metadata": {
        "id": "YJx7LyhlSKqY"
      },
      "source": [
        "import numpy as np\n",
        "import pandas as pd \n",
        "from bs4 import BeautifulSoup\n",
        "import matplotlib.pyplot as plt\n",
        "import os\n",
        "from tensorflow.keras.preprocessing.image import ImageDataGenerator\n",
        "from tensorflow.keras.applications import MobileNetV2\n",
        "from tensorflow.keras.layers import AveragePooling2D\n",
        "from tensorflow.keras.layers import Dropout,BatchNormalization\n",
        "from tensorflow.keras.layers import Flatten\n",
        "from tensorflow.keras.layers import Dense\n",
        "from tensorflow.keras.layers import Input\n",
        "from tensorflow.keras.models import Model\n",
        "from tensorflow.keras.optimizers import Adam\n",
        "from tensorflow.keras.preprocessing.image import img_to_array\n",
        "from tensorflow.keras.preprocessing.image import load_img\n",
        "from tensorflow.keras.utils import to_categorical\n",
        "from sklearn.preprocessing import LabelEncoder\n",
        "from sklearn.model_selection import train_test_split\n",
        "from sklearn.metrics import classification_report\n",
        "import matplotlib.pyplot as plt\n",
        "from keras.models import Sequential\n",
        "import cv2\n",
        "import random as rand\n",
        "from keras.layers import Dropout\n",
        "from keras.layers.convolutional import Conv2D\n",
        "from keras.layers.convolutional import MaxPooling2D"
      ],
      "execution_count": 2,
      "outputs": []
    },
    {
      "cell_type": "code",
      "metadata": {
        "id": "JBuA5EMSul21"
      },
      "source": [
        "!unzip \"/content/drive/MyDrive/Datasets/MAFA-Label-Test.zip\"\n",
        "!unzip \"/content/drive/MyDrive/Datasets/MAFA-Label-Train.zip\"\n",
        "!unzip \"/content/drive/MyDrive/Datasets/test-images.zip\"\n",
        "\n",
        "!unzip \"/content/drive/MyDrive/Datasets/train-images.zip\""
      ],
      "execution_count": null,
      "outputs": []
    },
    {
      "cell_type": "code",
      "metadata": {
        "colab": {
          "base_uri": "https://localhost:8080/"
        },
        "id": "l6idaa-JutMp",
        "outputId": "412a8190-bd3d-4d0a-82ec-aa1682c4bcef"
      },
      "source": [
        "!pip install mafaextractor"
      ],
      "execution_count": 6,
      "outputs": [
        {
          "output_type": "stream",
          "text": [
            "Collecting mafaextractor\n",
            "  Downloading MAFAExtractor-0.1.1-py3-none-any.whl (5.4 kB)\n",
            "Requirement already satisfied: pandas<2.0.0,>=1.1.0 in /usr/local/lib/python3.7/dist-packages (from mafaextractor) (1.1.5)\n",
            "Collecting scipy<2.0.0,>=1.5.2\n",
            "  Downloading scipy-1.7.1-cp37-cp37m-manylinux_2_5_x86_64.manylinux1_x86_64.whl (28.5 MB)\n",
            "\u001b[K     |████████████████████████████████| 28.5 MB 47 kB/s \n",
            "\u001b[?25hRequirement already satisfied: numpy<2.0.0,>=1.19.1 in /usr/local/lib/python3.7/dist-packages (from mafaextractor) (1.19.5)\n",
            "Requirement already satisfied: pytz>=2017.2 in /usr/local/lib/python3.7/dist-packages (from pandas<2.0.0,>=1.1.0->mafaextractor) (2018.9)\n",
            "Requirement already satisfied: python-dateutil>=2.7.3 in /usr/local/lib/python3.7/dist-packages (from pandas<2.0.0,>=1.1.0->mafaextractor) (2.8.2)\n",
            "Requirement already satisfied: six>=1.5 in /usr/local/lib/python3.7/dist-packages (from python-dateutil>=2.7.3->pandas<2.0.0,>=1.1.0->mafaextractor) (1.15.0)\n",
            "Installing collected packages: scipy, mafaextractor\n",
            "  Attempting uninstall: scipy\n",
            "    Found existing installation: scipy 1.4.1\n",
            "    Uninstalling scipy-1.4.1:\n",
            "      Successfully uninstalled scipy-1.4.1\n",
            "\u001b[31mERROR: pip's dependency resolver does not currently take into account all the packages that are installed. This behaviour is the source of the following dependency conflicts.\n",
            "albumentations 0.1.12 requires imgaug<0.2.7,>=0.2.5, but you have imgaug 0.2.9 which is incompatible.\u001b[0m\n",
            "Successfully installed mafaextractor-0.1.1 scipy-1.7.1\n"
          ],
          "name": "stdout"
        }
      ]
    },
    {
      "cell_type": "code",
      "metadata": {
        "id": "7RvkHpeMxbKy"
      },
      "source": [
        "from mafaextractor import extract_mafa\n",
        "df_test = extract_mafa(\"/content/LabelTestAll.mat\")\n",
        "df_train=extract_mafa(\"/content/LabelTrainAll.mat\")"
      ],
      "execution_count": 7,
      "outputs": []
    },
    {
      "cell_type": "code",
      "metadata": {
        "colab": {
          "base_uri": "https://localhost:8080/",
          "height": 223
        },
        "id": "voT-B37JxtOZ",
        "outputId": "a56996f9-2850-406a-c2c1-edaec46f7f05"
      },
      "source": [
        "df_test.head()"
      ],
      "execution_count": 8,
      "outputs": [
        {
          "output_type": "execute_result",
          "data": {
            "text/html": [
              "<div>\n",
              "<style scoped>\n",
              "    .dataframe tbody tr th:only-of-type {\n",
              "        vertical-align: middle;\n",
              "    }\n",
              "\n",
              "    .dataframe tbody tr th {\n",
              "        vertical-align: top;\n",
              "    }\n",
              "\n",
              "    .dataframe thead th {\n",
              "        text-align: right;\n",
              "    }\n",
              "</style>\n",
              "<table border=\"1\" class=\"dataframe\">\n",
              "  <thead>\n",
              "    <tr style=\"text-align: right;\">\n",
              "      <th></th>\n",
              "      <th>img_name</th>\n",
              "      <th>x_face_min</th>\n",
              "      <th>y_face_min</th>\n",
              "      <th>face_width</th>\n",
              "      <th>face_height</th>\n",
              "      <th>face_type</th>\n",
              "      <th>occ_width</th>\n",
              "      <th>occ_height</th>\n",
              "      <th>occ_type</th>\n",
              "      <th>occ_degree</th>\n",
              "      <th>gender</th>\n",
              "      <th>race</th>\n",
              "      <th>orientation</th>\n",
              "      <th>glasses_width</th>\n",
              "      <th>glasses_height</th>\n",
              "      <th>x_face_max</th>\n",
              "      <th>y_face_max</th>\n",
              "      <th>x_occ_min</th>\n",
              "      <th>y_occ_min</th>\n",
              "      <th>x_occ_max</th>\n",
              "      <th>y_occ_max</th>\n",
              "      <th>x_glasses_min</th>\n",
              "      <th>x_glasses_max</th>\n",
              "      <th>y_glasses_min</th>\n",
              "      <th>y_glasses_max</th>\n",
              "    </tr>\n",
              "  </thead>\n",
              "  <tbody>\n",
              "    <tr>\n",
              "      <th>0</th>\n",
              "      <td>test_00000001.jpg</td>\n",
              "      <td>2694.0</td>\n",
              "      <td>1211.0</td>\n",
              "      <td>353.0</td>\n",
              "      <td>353.0</td>\n",
              "      <td>1.0</td>\n",
              "      <td>144.0</td>\n",
              "      <td>337.0</td>\n",
              "      <td>2.0</td>\n",
              "      <td>3.0</td>\n",
              "      <td>2.0</td>\n",
              "      <td>2.0</td>\n",
              "      <td>1.0</td>\n",
              "      <td>-1.0</td>\n",
              "      <td>-1.0</td>\n",
              "      <td>3047.0</td>\n",
              "      <td>1564.0</td>\n",
              "      <td>2703.0</td>\n",
              "      <td>1316.0</td>\n",
              "      <td>2838.0</td>\n",
              "      <td>1548.0</td>\n",
              "      <td>-1.0</td>\n",
              "      <td>-1.0</td>\n",
              "      <td>-1.0</td>\n",
              "      <td>-1.0</td>\n",
              "    </tr>\n",
              "    <tr>\n",
              "      <th>1</th>\n",
              "      <td>test_00000001.jpg</td>\n",
              "      <td>1754.0</td>\n",
              "      <td>1449.0</td>\n",
              "      <td>68.0</td>\n",
              "      <td>68.0</td>\n",
              "      <td>3.0</td>\n",
              "      <td>-1.0</td>\n",
              "      <td>-1.0</td>\n",
              "      <td>-1.0</td>\n",
              "      <td>-1.0</td>\n",
              "      <td>-1.0</td>\n",
              "      <td>-1.0</td>\n",
              "      <td>-1.0</td>\n",
              "      <td>-1.0</td>\n",
              "      <td>-1.0</td>\n",
              "      <td>1822.0</td>\n",
              "      <td>1517.0</td>\n",
              "      <td>1753.0</td>\n",
              "      <td>1448.0</td>\n",
              "      <td>1753.0</td>\n",
              "      <td>1448.0</td>\n",
              "      <td>-1.0</td>\n",
              "      <td>-1.0</td>\n",
              "      <td>-1.0</td>\n",
              "      <td>-1.0</td>\n",
              "    </tr>\n",
              "    <tr>\n",
              "      <th>2</th>\n",
              "      <td>test_00000002.jpg</td>\n",
              "      <td>113.0</td>\n",
              "      <td>95.0</td>\n",
              "      <td>226.0</td>\n",
              "      <td>226.0</td>\n",
              "      <td>1.0</td>\n",
              "      <td>181.0</td>\n",
              "      <td>221.0</td>\n",
              "      <td>1.0</td>\n",
              "      <td>3.0</td>\n",
              "      <td>1.0</td>\n",
              "      <td>2.0</td>\n",
              "      <td>3.0</td>\n",
              "      <td>-1.0</td>\n",
              "      <td>-1.0</td>\n",
              "      <td>339.0</td>\n",
              "      <td>321.0</td>\n",
              "      <td>122.0</td>\n",
              "      <td>166.0</td>\n",
              "      <td>294.0</td>\n",
              "      <td>316.0</td>\n",
              "      <td>-1.0</td>\n",
              "      <td>-1.0</td>\n",
              "      <td>-1.0</td>\n",
              "      <td>-1.0</td>\n",
              "    </tr>\n",
              "    <tr>\n",
              "      <th>3</th>\n",
              "      <td>test_00000003.jpg</td>\n",
              "      <td>352.0</td>\n",
              "      <td>114.0</td>\n",
              "      <td>151.0</td>\n",
              "      <td>151.0</td>\n",
              "      <td>1.0</td>\n",
              "      <td>137.0</td>\n",
              "      <td>135.0</td>\n",
              "      <td>1.0</td>\n",
              "      <td>3.0</td>\n",
              "      <td>2.0</td>\n",
              "      <td>2.0</td>\n",
              "      <td>3.0</td>\n",
              "      <td>-1.0</td>\n",
              "      <td>-1.0</td>\n",
              "      <td>503.0</td>\n",
              "      <td>265.0</td>\n",
              "      <td>369.0</td>\n",
              "      <td>159.0</td>\n",
              "      <td>489.0</td>\n",
              "      <td>249.0</td>\n",
              "      <td>-1.0</td>\n",
              "      <td>-1.0</td>\n",
              "      <td>-1.0</td>\n",
              "      <td>-1.0</td>\n",
              "    </tr>\n",
              "    <tr>\n",
              "      <th>4</th>\n",
              "      <td>test_00000003.jpg</td>\n",
              "      <td>799.0</td>\n",
              "      <td>217.0</td>\n",
              "      <td>139.0</td>\n",
              "      <td>139.0</td>\n",
              "      <td>2.0</td>\n",
              "      <td>-1.0</td>\n",
              "      <td>-1.0</td>\n",
              "      <td>-1.0</td>\n",
              "      <td>-1.0</td>\n",
              "      <td>-1.0</td>\n",
              "      <td>-1.0</td>\n",
              "      <td>-1.0</td>\n",
              "      <td>-1.0</td>\n",
              "      <td>-1.0</td>\n",
              "      <td>938.0</td>\n",
              "      <td>356.0</td>\n",
              "      <td>798.0</td>\n",
              "      <td>216.0</td>\n",
              "      <td>798.0</td>\n",
              "      <td>216.0</td>\n",
              "      <td>-1.0</td>\n",
              "      <td>-1.0</td>\n",
              "      <td>-1.0</td>\n",
              "      <td>-1.0</td>\n",
              "    </tr>\n",
              "  </tbody>\n",
              "</table>\n",
              "</div>"
            ],
            "text/plain": [
              "            img_name  x_face_min  ...  y_glasses_min  y_glasses_max\n",
              "0  test_00000001.jpg      2694.0  ...           -1.0           -1.0\n",
              "1  test_00000001.jpg      1754.0  ...           -1.0           -1.0\n",
              "2  test_00000002.jpg       113.0  ...           -1.0           -1.0\n",
              "3  test_00000003.jpg       352.0  ...           -1.0           -1.0\n",
              "4  test_00000003.jpg       799.0  ...           -1.0           -1.0\n",
              "\n",
              "[5 rows x 25 columns]"
            ]
          },
          "metadata": {
            "tags": []
          },
          "execution_count": 8
        }
      ]
    },
    {
      "cell_type": "code",
      "metadata": {
        "colab": {
          "base_uri": "https://localhost:8080/",
          "height": 223
        },
        "id": "VOY5O7ggx2NQ",
        "outputId": "a2f4502c-714f-474e-ba83-d0fe008d339d"
      },
      "source": [
        "df_train.head()"
      ],
      "execution_count": 9,
      "outputs": [
        {
          "output_type": "execute_result",
          "data": {
            "text/html": [
              "<div>\n",
              "<style scoped>\n",
              "    .dataframe tbody tr th:only-of-type {\n",
              "        vertical-align: middle;\n",
              "    }\n",
              "\n",
              "    .dataframe tbody tr th {\n",
              "        vertical-align: top;\n",
              "    }\n",
              "\n",
              "    .dataframe thead th {\n",
              "        text-align: right;\n",
              "    }\n",
              "</style>\n",
              "<table border=\"1\" class=\"dataframe\">\n",
              "  <thead>\n",
              "    <tr style=\"text-align: right;\">\n",
              "      <th></th>\n",
              "      <th>img_name</th>\n",
              "      <th>x_face_min</th>\n",
              "      <th>y_face_min</th>\n",
              "      <th>face_width</th>\n",
              "      <th>face_height</th>\n",
              "      <th>left_eye_x</th>\n",
              "      <th>left_eye_y</th>\n",
              "      <th>right_eye_x</th>\n",
              "      <th>right_eye_y</th>\n",
              "      <th>occ_width</th>\n",
              "      <th>occ_height</th>\n",
              "      <th>occ_type</th>\n",
              "      <th>occ_degree</th>\n",
              "      <th>gender</th>\n",
              "      <th>race</th>\n",
              "      <th>orientation</th>\n",
              "      <th>glasses_width</th>\n",
              "      <th>glasses_height</th>\n",
              "      <th>x_face_max</th>\n",
              "      <th>y_face_max</th>\n",
              "      <th>x_occ_min</th>\n",
              "      <th>y_occ_min</th>\n",
              "      <th>x_occ_max</th>\n",
              "      <th>y_occ_max</th>\n",
              "      <th>x_glasses_min</th>\n",
              "      <th>x_glasses_max</th>\n",
              "      <th>y_glasses_min</th>\n",
              "      <th>y_glasses_max</th>\n",
              "    </tr>\n",
              "  </thead>\n",
              "  <tbody>\n",
              "    <tr>\n",
              "      <th>0</th>\n",
              "      <td>train_00000001.jpg</td>\n",
              "      <td>95</td>\n",
              "      <td>160</td>\n",
              "      <td>91</td>\n",
              "      <td>91</td>\n",
              "      <td>113</td>\n",
              "      <td>177</td>\n",
              "      <td>158</td>\n",
              "      <td>172</td>\n",
              "      <td>82</td>\n",
              "      <td>89</td>\n",
              "      <td>1</td>\n",
              "      <td>3</td>\n",
              "      <td>1</td>\n",
              "      <td>1</td>\n",
              "      <td>3</td>\n",
              "      <td>-1</td>\n",
              "      <td>-1</td>\n",
              "      <td>186</td>\n",
              "      <td>251</td>\n",
              "      <td>102</td>\n",
              "      <td>186</td>\n",
              "      <td>177</td>\n",
              "      <td>249</td>\n",
              "      <td>-1</td>\n",
              "      <td>-1</td>\n",
              "      <td>-1</td>\n",
              "      <td>-1</td>\n",
              "    </tr>\n",
              "    <tr>\n",
              "      <th>1</th>\n",
              "      <td>train_00000002.jpg</td>\n",
              "      <td>107</td>\n",
              "      <td>82</td>\n",
              "      <td>66</td>\n",
              "      <td>66</td>\n",
              "      <td>129</td>\n",
              "      <td>95</td>\n",
              "      <td>156</td>\n",
              "      <td>96</td>\n",
              "      <td>65</td>\n",
              "      <td>56</td>\n",
              "      <td>2</td>\n",
              "      <td>3</td>\n",
              "      <td>1</td>\n",
              "      <td>1</td>\n",
              "      <td>3</td>\n",
              "      <td>-1</td>\n",
              "      <td>-1</td>\n",
              "      <td>173</td>\n",
              "      <td>148</td>\n",
              "      <td>112</td>\n",
              "      <td>99</td>\n",
              "      <td>172</td>\n",
              "      <td>138</td>\n",
              "      <td>-1</td>\n",
              "      <td>-1</td>\n",
              "      <td>-1</td>\n",
              "      <td>-1</td>\n",
              "    </tr>\n",
              "    <tr>\n",
              "      <th>2</th>\n",
              "      <td>train_00000003.jpg</td>\n",
              "      <td>56</td>\n",
              "      <td>170</td>\n",
              "      <td>185</td>\n",
              "      <td>185</td>\n",
              "      <td>140</td>\n",
              "      <td>198</td>\n",
              "      <td>196</td>\n",
              "      <td>208</td>\n",
              "      <td>147</td>\n",
              "      <td>182</td>\n",
              "      <td>1</td>\n",
              "      <td>3</td>\n",
              "      <td>1</td>\n",
              "      <td>1</td>\n",
              "      <td>4</td>\n",
              "      <td>-1</td>\n",
              "      <td>-1</td>\n",
              "      <td>241</td>\n",
              "      <td>355</td>\n",
              "      <td>97</td>\n",
              "      <td>226</td>\n",
              "      <td>203</td>\n",
              "      <td>352</td>\n",
              "      <td>-1</td>\n",
              "      <td>-1</td>\n",
              "      <td>-1</td>\n",
              "      <td>-1</td>\n",
              "    </tr>\n",
              "    <tr>\n",
              "      <th>3</th>\n",
              "      <td>train_00000004.jpg</td>\n",
              "      <td>162</td>\n",
              "      <td>208</td>\n",
              "      <td>71</td>\n",
              "      <td>71</td>\n",
              "      <td>182</td>\n",
              "      <td>229</td>\n",
              "      <td>203</td>\n",
              "      <td>238</td>\n",
              "      <td>46</td>\n",
              "      <td>70</td>\n",
              "      <td>2</td>\n",
              "      <td>3</td>\n",
              "      <td>1</td>\n",
              "      <td>1</td>\n",
              "      <td>2</td>\n",
              "      <td>-1</td>\n",
              "      <td>-1</td>\n",
              "      <td>233</td>\n",
              "      <td>279</td>\n",
              "      <td>169</td>\n",
              "      <td>234</td>\n",
              "      <td>208</td>\n",
              "      <td>278</td>\n",
              "      <td>-1</td>\n",
              "      <td>-1</td>\n",
              "      <td>-1</td>\n",
              "      <td>-1</td>\n",
              "    </tr>\n",
              "    <tr>\n",
              "      <th>4</th>\n",
              "      <td>train_00000005.jpg</td>\n",
              "      <td>86</td>\n",
              "      <td>69</td>\n",
              "      <td>99</td>\n",
              "      <td>99</td>\n",
              "      <td>134</td>\n",
              "      <td>93</td>\n",
              "      <td>165</td>\n",
              "      <td>98</td>\n",
              "      <td>76</td>\n",
              "      <td>97</td>\n",
              "      <td>1</td>\n",
              "      <td>1</td>\n",
              "      <td>2</td>\n",
              "      <td>1</td>\n",
              "      <td>4</td>\n",
              "      <td>-1</td>\n",
              "      <td>-1</td>\n",
              "      <td>185</td>\n",
              "      <td>168</td>\n",
              "      <td>92</td>\n",
              "      <td>139</td>\n",
              "      <td>162</td>\n",
              "      <td>166</td>\n",
              "      <td>-1</td>\n",
              "      <td>-1</td>\n",
              "      <td>-1</td>\n",
              "      <td>-1</td>\n",
              "    </tr>\n",
              "  </tbody>\n",
              "</table>\n",
              "</div>"
            ],
            "text/plain": [
              "             img_name  x_face_min  ...  y_glasses_min  y_glasses_max\n",
              "0  train_00000001.jpg          95  ...             -1             -1\n",
              "1  train_00000002.jpg         107  ...             -1             -1\n",
              "2  train_00000003.jpg          56  ...             -1             -1\n",
              "3  train_00000004.jpg         162  ...             -1             -1\n",
              "4  train_00000005.jpg          86  ...             -1             -1\n",
              "\n",
              "[5 rows x 28 columns]"
            ]
          },
          "metadata": {
            "tags": []
          },
          "execution_count": 9
        }
      ]
    },
    {
      "cell_type": "code",
      "metadata": {
        "id": "-_eL49NWx9ev"
      },
      "source": [
        "import scipy.io\n",
        "matTrain = scipy.io.loadmat('/content/LabelTrainAll.mat')\n",
        "matTest = scipy.io.loadmat('/content/LabelTestAll.mat')"
      ],
      "execution_count": 4,
      "outputs": []
    },
    {
      "cell_type": "code",
      "metadata": {
        "colab": {
          "base_uri": "https://localhost:8080/"
        },
        "id": "uBY7uOhr3VM7",
        "outputId": "0a762a55-2598-47d0-e304-647c643f734d"
      },
      "source": [
        "print(matTrain.keys())\n",
        "print(matTest.keys())"
      ],
      "execution_count": 5,
      "outputs": [
        {
          "output_type": "stream",
          "text": [
            "dict_keys(['__header__', '__version__', '__globals__', 'label_train'])\n",
            "dict_keys(['__header__', '__version__', '__globals__', 'LabelTest'])\n"
          ],
          "name": "stdout"
        }
      ]
    },
    {
      "cell_type": "code",
      "metadata": {
        "colab": {
          "base_uri": "https://localhost:8080/"
        },
        "id": "5OE24pLHvCQf",
        "outputId": "1344d26a-a8c8-4b0f-88c8-4be249209ef9"
      },
      "source": [
        "\n",
        "#Read train\n",
        "label_train = matTrain['label_train']\n",
        "print(label_train.dtype)\n",
        "print(label_train.shape,label_train.size)\n",
        "print(label_train[0,0]['imgName'],label_train[0,0]['label'])\n",
        "imgName = label_train[0]['imgName']\n",
        "label = label_train[0]['label']"
      ],
      "execution_count": 6,
      "outputs": [
        {
          "output_type": "stream",
          "text": [
            "[('orgImgName', 'O'), ('imgName', 'O'), ('label', 'O')]\n",
            "(1, 25876) 25876\n",
            "['train_00000001.jpg'] [[ 95 160  91  91 113 177 158 172   7  26  82  89   1   3   1   1   3  -1\n",
            "   -1  -1  -1]]\n"
          ],
          "name": "stdout"
        }
      ]
    },
    {
      "cell_type": "code",
      "metadata": {
        "id": "2Bd3Xo-q3f4i"
      },
      "source": [
        "\n",
        "#Write Train\n",
        "import cv2\n",
        "import numpy as np\n",
        "import os \n",
        "pathIn = '/content/images'\n",
        "pathOut = '/content/MAFA-Crop/train'\n",
        "numM1, numM2, numN = 0, 0, 0\n",
        "index = 1\n",
        "for i in range(label.size):\n",
        "  img_name = pathIn + \"/\" + imgName[i][0]\n",
        "  img_path=\"\"\n",
        "  print(img_name)\n",
        "  img = cv2.imread(img_name)\n",
        "  x,y,w,h = label[i][0][0:4]\n",
        "  crop_img = img[y:y+int(h), x:x+int(w)]\n",
        "  img_label = label[i][0][12]\n",
        "  if img_label == 1:\n",
        "    numM1 += 1\n",
        "    if numM1 > 1000: continue\n",
        "    img_label = 'M'\n",
        "  elif img_label == 2: \n",
        "    numM2 += 1\n",
        "    if numM2 > 1000: continue\n",
        "    img_label = 'M'\n",
        "  else: \n",
        "    numN += 1\n",
        "    img_label = 'N'\n",
        "  img_name_out = img_label + '_' + str(index) + '.jpg'\n",
        "  index += 1\n",
        "  img_crop_name = os.path.join(pathOut, img_name_out)\n",
        "  cv2.imwrite(img_crop_name, crop_img)"
      ],
      "execution_count": null,
      "outputs": []
    },
    {
      "cell_type": "code",
      "metadata": {
        "colab": {
          "base_uri": "https://localhost:8080/"
        },
        "id": "T67se98oxhCt",
        "outputId": "ee652a3a-d4bb-42d7-a107-0fb43db5c893"
      },
      "source": [
        "\n",
        "label_test = matTest['LabelTest']\n",
        "print(label_test.dtype)\n",
        "print(label_test.shape,label_test.size)\n",
        "print(label_test[0,0]['name'],label_test[0,0]['label'])\n",
        "imgName = label_test[0]['name']\n",
        "label = label_test[0]['label']"
      ],
      "execution_count": 7,
      "outputs": [
        {
          "output_type": "stream",
          "text": [
            "[('name', 'O'), ('label', 'O')]\n",
            "(1, 4935) 4935\n",
            "['test_00000001.jpg'] [[2694 1211  353  353    1    9  105  144  337    2    3    2    2    1\n",
            "    -1   -1   -1   -1]\n",
            " [1754 1449   68   68    3   -1   -1   -1   -1   -1   -1   -1   -1   -1\n",
            "    -1   -1   -1   -1]]\n"
          ],
          "name": "stdout"
        }
      ]
    },
    {
      "cell_type": "code",
      "metadata": {
        "id": "IhIwA4qNub6G"
      },
      "source": [
        "import cv2\n",
        "import numpy as np\n",
        "import os \n",
        "pathIn = '/content/images'\n",
        "pathOut = '/content/MAFA-Crop/test'\n",
        "numM1, numM2, numN = 0, 0, 0 #Want test set has 1000 imgs\n",
        "index = 1\n",
        "for i in range(label.size):\n",
        "  img_name = os.path.join(pathIn, imgName[i][0])\n",
        "  img = cv2.imread(img_name)\n",
        "  x,y,w,h = label[i][0][0:4]\n",
        "  crop_img = img[int(y):int(y)+int(h), int(x):int(x)+int(w)]\n",
        "  img_label = int(label[i][0][9])\n",
        "  if img_label == 1:\n",
        "    numM1 += 1\n",
        "    if numM1 > 250: continue\n",
        "    img_label = 'M'\n",
        "  elif img_label == 2: \n",
        "    numM2 += 1\n",
        "    if numM2 > 250: continue\n",
        "    img_label = 'M'\n",
        "  else: \n",
        "    numN += 1\n",
        "    if numN > 500: continue\n",
        "    img_label = 'N'\n",
        "  img_name_out = img_label + '_' + str(index) + '.jpg'\n",
        "  index += 1\n",
        "  img_crop_name = os.path.join(pathOut, img_name_out)\n",
        "  cv2.imwrite(img_crop_name, crop_img)"
      ],
      "execution_count": 8,
      "outputs": []
    },
    {
      "cell_type": "code",
      "metadata": {
        "id": "oQYUR43TxmEl"
      },
      "source": [
        "\n",
        "# defines\n",
        "\n",
        "DIR_IMG_TRAIN = '/content/MAFA-Crop/train/'\n",
        "DIR_IMG_TEST = '/content/MAFA-Crop/test/'\n",
        "\n",
        "\n",
        "IMG_SHAPE = (224,224,3)"
      ],
      "execution_count": 23,
      "outputs": []
    },
    {
      "cell_type": "code",
      "metadata": {
        "colab": {
          "base_uri": "https://localhost:8080/",
          "height": 363
        },
        "id": "FlmpJD6LebcW",
        "outputId": "2f4ec5ef-be5a-4682-e7c9-e1d552818b54"
      },
      "source": [
        "import os\n",
        "import matplotlib.pyplot as plt\n",
        "from scipy.ndimage import imread\n",
        "from scipy.misc import imsave\n",
        "import numpy as np\n",
        "import time"
      ],
      "execution_count": 14,
      "outputs": [
        {
          "output_type": "error",
          "ename": "ImportError",
          "evalue": "ignored",
          "traceback": [
            "\u001b[0;31m---------------------------------------------------------------------------\u001b[0m",
            "\u001b[0;31mImportError\u001b[0m                               Traceback (most recent call last)",
            "\u001b[0;32m<ipython-input-14-4fc5edfc2fd0>\u001b[0m in \u001b[0;36m<module>\u001b[0;34m()\u001b[0m\n\u001b[1;32m      1\u001b[0m \u001b[0;32mimport\u001b[0m \u001b[0mos\u001b[0m\u001b[0;34m\u001b[0m\u001b[0;34m\u001b[0m\u001b[0m\n\u001b[1;32m      2\u001b[0m \u001b[0;32mimport\u001b[0m \u001b[0mmatplotlib\u001b[0m\u001b[0;34m.\u001b[0m\u001b[0mpyplot\u001b[0m \u001b[0;32mas\u001b[0m \u001b[0mplt\u001b[0m\u001b[0;34m\u001b[0m\u001b[0;34m\u001b[0m\u001b[0m\n\u001b[0;32m----> 3\u001b[0;31m \u001b[0;32mfrom\u001b[0m \u001b[0mscipy\u001b[0m\u001b[0;34m.\u001b[0m\u001b[0mndimage\u001b[0m \u001b[0;32mimport\u001b[0m \u001b[0mimread\u001b[0m\u001b[0;34m\u001b[0m\u001b[0;34m\u001b[0m\u001b[0m\n\u001b[0m\u001b[1;32m      4\u001b[0m \u001b[0;32mfrom\u001b[0m \u001b[0mscipy\u001b[0m\u001b[0;34m.\u001b[0m\u001b[0mmisc\u001b[0m \u001b[0;32mimport\u001b[0m \u001b[0mimsave\u001b[0m\u001b[0;34m\u001b[0m\u001b[0;34m\u001b[0m\u001b[0m\n\u001b[1;32m      5\u001b[0m \u001b[0;32mimport\u001b[0m \u001b[0mnumpy\u001b[0m \u001b[0;32mas\u001b[0m \u001b[0mnp\u001b[0m\u001b[0;34m\u001b[0m\u001b[0;34m\u001b[0m\u001b[0m\n",
            "\u001b[0;31mImportError\u001b[0m: cannot import name 'imread' from 'scipy.ndimage' (/usr/local/lib/python3.7/dist-packages/scipy/ndimage/__init__.py)",
            "",
            "\u001b[0;31m---------------------------------------------------------------------------\u001b[0;32m\nNOTE: If your import is failing due to a missing package, you can\nmanually install dependencies using either !pip or !apt.\n\nTo view examples of installing some common dependencies, click the\n\"Open Examples\" button below.\n\u001b[0;31m---------------------------------------------------------------------------\u001b[0m\n"
          ],
          "errorDetails": {
            "actions": [
              {
                "action": "open_url",
                "actionText": "Open Examples",
                "url": "/notebooks/snippets/importing_libraries.ipynb"
              }
            ]
          }
        }
      ]
    },
    {
      "cell_type": "code",
      "metadata": {
        "colab": {
          "base_uri": "https://localhost:8080/",
          "height": 285
        },
        "id": "_kerI9xueiL-",
        "outputId": "5f9183a1-1771-45a4-ec6f-6c11002adef2"
      },
      "source": [
        "\n",
        "#EXPLORING THE DATA\n",
        "sample_img_path = os.path.join(DIR_IMG_TRAIN,'M_1.jpg')\n",
        "sample_img = plt.imread(sample_img_path)\n",
        "plt.imshow(sample_img)\n",
        "print ('Image have shape: {}'.format(sample_img.shape))"
      ],
      "execution_count": 11,
      "outputs": [
        {
          "output_type": "stream",
          "text": [
            "Image have shape: (91, 91, 3)\n"
          ],
          "name": "stdout"
        },
        {
          "output_type": "display_data",
          "data": {
            "image/png": "[encoded data removed]",
            "text/plain": [
              "<Figure size 432x288 with 1 Axes>"
            ]
          },
          "metadata": {
            "tags": [],
            "needs_background": "light"
          }
        }
      ]
    },
    {
      "cell_type": "code",
      "metadata": {
        "colab": {
          "base_uri": "https://localhost:8080/",
          "height": 286
        },
        "id": "19c0uyZje2wn",
        "outputId": "adefda05-2a52-47f5-b83a-d9984bd4c99d"
      },
      "source": [
        "sample_img_path = os.path.join(DIR_IMG_TRAIN,'N_1216.jpg')\n",
        "sample_img = plt.imread(sample_img_path)\n",
        "plt.imshow(sample_img)\n",
        "print ('Image have shape: {}'.format(sample_img.shape))"
      ],
      "execution_count": 15,
      "outputs": [
        {
          "output_type": "stream",
          "text": [
            "Image have shape: (150, 150, 3)\n"
          ],
          "name": "stdout"
        },
        {
          "output_type": "display_data",
          "data": {
            "image/png": "[encoded data removed]",
            "text/plain": [
              "<Figure size 432x288 with 1 Axes>"
            ]
          },
          "metadata": {
            "tags": [],
            "needs_background": "light"
          }
        }
      ]
    },
    {
      "cell_type": "code",
      "metadata": {
        "colab": {
          "base_uri": "https://localhost:8080/",
          "height": 286
        },
        "id": "z5iv-rvwfPe5",
        "outputId": "b8bfa0e7-ef85-4130-8297-479cba95c359"
      },
      "source": [
        "from keras.preprocessing import image\n",
        "from keras.applications.imagenet_utils import preprocess_input\n",
        "\n",
        "def loadAndResizeImage (img, w, h):\n",
        "    '''\n",
        "    loads the image in 'img' path and returns a PIL image of size (w,h)\n",
        "    '''\n",
        "    return image.load_img (img, target_size=(w,h))\n",
        "\n",
        "# Mask example resized\n",
        "mask_index = 1\n",
        "sample_img_path = os.path.join(DIR_IMG_TRAIN,'M_'+str(mask_index)+'.jpg')\n",
        "sample_img = loadAndResizeImage (sample_img_path, IMG_SHAPE[0], IMG_SHAPE[1])\n",
        "plt.imshow(sample_img)\n",
        "print ('Mask #'+str(mask_index)+' as image:')"
      ],
      "execution_count": 16,
      "outputs": [
        {
          "output_type": "stream",
          "text": [
            "Mask #1 as image:\n"
          ],
          "name": "stdout"
        },
        {
          "output_type": "display_data",
          "data": {
            "image/png": "[encoded data removed]",
            "text/plain": [
              "<Figure size 432x288 with 1 Axes>"
            ]
          },
          "metadata": {
            "tags": [],
            "needs_background": "light"
          }
        }
      ]
    },
    {
      "cell_type": "code",
      "metadata": {
        "id": "yOv-qfmyfVM4"
      },
      "source": [
        "from PIL import Image\n",
        "\n",
        "def getLabel (X):\n",
        "    \"\"\"\n",
        "    Return the label for an element based on the filename: \n",
        "        mask -> 1 \n",
        "        non_mask -> 0\n",
        "    \"\"\"\n",
        "    if ('M' in X):\n",
        "        return 1\n",
        "    else:\n",
        "        return 0\n",
        "    \n",
        "def getLabels (X):\n",
        "    \"\"\"\n",
        "    Returns an array that contains the label for each X\n",
        "    \"\"\"\n",
        "    return np.array([getLabel(X[i]) for i in range(len(X))])\n",
        "\n",
        "def getLabelFromScore (score):\n",
        "    \"\"\"\n",
        "    Returns the label based on the probability\n",
        "    if score >= 0.5, return 'mask'\n",
        "    else return 'non_mask'\n",
        "    \"\"\"\n",
        "    if (score >=0.5):\n",
        "        return 'M'\n",
        "    else:\n",
        "        return 'N'\n",
        "\n",
        "def normalizedArrayFromImageInPath (image_path, img_shape):\n",
        "    \"\"\"\n",
        "    returns an the image in 'image' path normalized in an np array\n",
        "    \"\"\"\n",
        "    img = loadAndResizeImage (image_path, img_shape[0], img_shape[1])\n",
        "    return image.img_to_array(img) / 255.\n",
        "\n",
        "def loadResizeNormalizeImages (basepath, path_array, img_shape):\n",
        "    \"\"\"\n",
        "    Loads the images from the path \n",
        "    and returns them in an array\n",
        "    \"\"\"\n",
        "    images = np.empty ((len(path_array), img_shape[0], img_shape[1], img_shape[2]), dtype=np.float32)\n",
        "    for i in range (len(path_array)):\n",
        "        images[i] = normalizedArrayFromImageInPath (os.path.join(basepath,path_array[i]), img_shape)\n",
        "    return images"
      ],
      "execution_count": 17,
      "outputs": []
    },
    {
      "cell_type": "code",
      "metadata": {
        "colab": {
          "base_uri": "https://localhost:8080/"
        },
        "id": "XYzXR-G5fdYG",
        "outputId": "0ede477b-2a9f-4332-e3a9-a041e46e7294"
      },
      "source": [
        "import os\n",
        "import numpy as np\n",
        "\n",
        "train_imgs = os.listdir(DIR_IMG_TRAIN)\n",
        "train_imgs.sort()\n",
        "\n",
        "#TRAIN VALID TEST: 70 10 20 => TOTAL ~ 5000\n",
        "\n",
        "#Training data have 3500 img\n",
        "X_train = np.append(train_imgs[:1750],train_imgs[-1750:])\n",
        "Y_train = getLabels (X_train)\n",
        "\n",
        "print (\"Number of training examples = {}\".format(len(X_train)))\n",
        "print (\"Number of training labels = {}\".format(len(Y_train)))\n",
        "\n",
        "#Validation data have 500 img \n",
        "X_test = np.append(train_imgs[1750:2000],train_imgs[-2000:-1750])\n",
        "Y_test = getLabels (X_test)\n",
        "\n",
        "print (\"Number of validation examples = {}\".format (len(X_test)))\n",
        "print (\"Number of validation labels = {}\".format(len(Y_test)))"
      ],
      "execution_count": 19,
      "outputs": [
        {
          "output_type": "stream",
          "text": [
            "Number of training examples = 3500\n",
            "Number of training labels = 3500\n",
            "Number of validation examples = 500\n",
            "Number of validation labels = 500\n"
          ],
          "name": "stdout"
        }
      ]
    },
    {
      "cell_type": "code",
      "metadata": {
        "colab": {
          "base_uri": "https://localhost:8080/"
        },
        "id": "ZpaZ9SiYftf4",
        "outputId": "82e6990d-7612-40c9-b94f-266356c4391f"
      },
      "source": [
        "X_train"
      ],
      "execution_count": 22,
      "outputs": [
        {
          "output_type": "execute_result",
          "data": {
            "text/plain": [
              "array(['M_1.jpg', 'M_100.jpg', 'M_1000.jpg', ..., 'N_936.jpg',\n",
              "       'N_949.jpg', 'N_994.jpg'], dtype='<U10')"
            ]
          },
          "metadata": {
            "tags": []
          },
          "execution_count": 22
        }
      ]
    },
    {
      "cell_type": "code",
      "metadata": {
        "colab": {
          "base_uri": "https://localhost:8080/"
        },
        "id": "LHXfoVO7gGdx",
        "outputId": "83d1f1db-6497-49e7-ba1b-3c8a08ac73e3"
      },
      "source": [
        "Y_train.shape"
      ],
      "execution_count": 21,
      "outputs": [
        {
          "output_type": "execute_result",
          "data": {
            "text/plain": [
              "(3500,)"
            ]
          },
          "metadata": {
            "tags": []
          },
          "execution_count": 21
        }
      ]
    },
    {
      "cell_type": "code",
      "metadata": {
        "colab": {
          "base_uri": "https://localhost:8080/"
        },
        "id": "_YCS171PhzHG",
        "outputId": "7e1141a2-2d57-45d5-e7c7-c2cc7539e502"
      },
      "source": [
        "Y_train"
      ],
      "execution_count": 25,
      "outputs": [
        {
          "output_type": "execute_result",
          "data": {
            "text/plain": [
              "array([1, 1, 1, ..., 0, 0, 0])"
            ]
          },
          "metadata": {
            "tags": []
          },
          "execution_count": 25
        }
      ]
    },
    {
      "cell_type": "code",
      "metadata": {
        "id": "nV3VVY-4gJJO"
      },
      "source": [
        "x_train_list=[]\n",
        "img_train_x = loadResizeNormalizeImages (DIR_IMG_TRAIN, X_train, IMG_SHAPE)\n",
        "x_train_list.append(img_train_x)\n",
        "x_test_list=[]\n",
        "img_validation_x = loadResizeNormalizeImages (DIR_IMG_TRAIN, X_test, IMG_SHAPE)\n",
        "x_test_list.append(img_validation_x)"
      ],
      "execution_count": 27,
      "outputs": []
    },
    {
      "cell_type": "code",
      "metadata": {
        "id": "wwHH_IFKgjBc"
      },
      "source": [
        "x_train_array=np.array(x_train_list)\n",
        "x_test_array=np.array(x_test_list)"
      ],
      "execution_count": 34,
      "outputs": []
    },
    {
      "cell_type": "code",
      "metadata": {
        "id": "jOegeIbOiQJx"
      },
      "source": [
        "x_train_array=x_train_array.reshape((3500,224,224,3))\n",
        "x_test_array=x_test_array.reshape((500,224,224,3))"
      ],
      "execution_count": 36,
      "outputs": []
    },
    {
      "cell_type": "code",
      "metadata": {
        "colab": {
          "base_uri": "https://localhost:8080/"
        },
        "id": "pldxnamRiSBd",
        "outputId": "9d3c0e44-03c8-40bb-cc90-187635f73317"
      },
      "source": [
        "x_test_array.shape"
      ],
      "execution_count": 37,
      "outputs": [
        {
          "output_type": "execute_result",
          "data": {
            "text/plain": [
              "(500, 224, 224, 3)"
            ]
          },
          "metadata": {
            "tags": []
          },
          "execution_count": 37
        }
      ]
    },
    {
      "cell_type": "markdown",
      "metadata": {
        "id": "8SuNXfl4i__G"
      },
      "source": [
        "# Feauture extraction using renets"
      ]
    },
    {
      "cell_type": "code",
      "metadata": {
        "colab": {
          "base_uri": "https://localhost:8080/"
        },
        "id": "wODNuuimiaqE",
        "outputId": "a829e7ef-a990-4489-9354-ef96cb80e0f3"
      },
      "source": [
        "import time\n",
        "import numpy as np\n",
        "import tensorflow as tf\n",
        "import tensorflow.keras.applications.resnet50\n",
        "from tensorflow.python.keras.preprocessing import image\n",
        "from tensorflow.python.keras.models import Model\n",
        "from tensorflow.keras.applications.resnet50 import preprocess_input\n",
        "#from tensorflow.python.keras.applications.inception_v3 import preprocess_input\n",
        "#from tensorflow.python.keras.applications.inception_resnet_v2 import preprocess_input\n",
        "\n",
        "resnet_weights_path = '/content/resnet50_weights_tf_dim_ordering_tf_kernels.h5'\n",
        "#inceptionv3_weights_path = '../input/keras-pretrained-models/inception_v3_weights_tf_dim_ordering_tf_kernels_notop.h5'\n",
        "#inceptionresnetv2_weights_path = '../input/keras-pretrained-models/inception_resnet_v2_weights_tf_dim_ordering_tf_kernels_notop.h5'\n",
        "\n",
        "base_model = tf.keras.applications.resnet50.ResNet50(weights='imagenet')\n",
        "model = Model(inputs=base_model.input, outputs=base_model.get_layer('avg_pool').output)"
      ],
      "execution_count": 38,
      "outputs": [
        {
          "output_type": "stream",
          "text": [
            "Downloading data from https://storage.googleapis.com/tensorflow/keras-applications/resnet/resnet50_weights_tf_dim_ordering_tf_kernels.h5\n",
            "102973440/102967424 [==============================] - 1s 0us/step\n",
            "102981632/102967424 [==============================] - 1s 0us/step\n"
          ],
          "name": "stdout"
        }
      ]
    },
    {
      "cell_type": "code",
      "metadata": {
        "colab": {
          "base_uri": "https://localhost:8080/"
        },
        "id": "C8sfbi_qmGb5",
        "outputId": "27155c15-2cc0-4803-8e26-1cfba4a82aaf"
      },
      "source": [
        "x_train=model.predict(x_train_array)\n",
        "print(x_train.shape)\n",
        "x_test=model.predict(x_test_array)\n",
        "print(x_test.shape)\n"
      ],
      "execution_count": 44,
      "outputs": [
        {
          "output_type": "stream",
          "text": [
            "(3500, 2048)\n",
            "(500, 2048)\n"
          ],
          "name": "stdout"
        }
      ]
    },
    {
      "cell_type": "code",
      "metadata": {
        "id": "xydCI7ctkruI"
      },
      "source": [
        "Ytrain=Y_train\n",
        "Xtest=x_test\n",
        "Xtrain=x_train\n",
        "Ytest=Y_test"
      ],
      "execution_count": 45,
      "outputs": []
    },
    {
      "cell_type": "code",
      "metadata": {
        "colab": {
          "base_uri": "https://localhost:8080/"
        },
        "id": "sduvo5jRpGjK",
        "outputId": "58a303e5-a96c-4b0f-97d2-a0af917f195f"
      },
      "source": [
        "Ytrain"
      ],
      "execution_count": 47,
      "outputs": [
        {
          "output_type": "execute_result",
          "data": {
            "text/plain": [
              "array([1, 1, 1, ..., 0, 0, 0])"
            ]
          },
          "metadata": {
            "tags": []
          },
          "execution_count": 47
        }
      ]
    },
    {
      "cell_type": "code",
      "metadata": {
        "colab": {
          "base_uri": "https://localhost:8080/"
        },
        "id": "zPRC6CDSpJ1d",
        "outputId": "7595e640-ef71-4811-af2c-eadd3eb056c8"
      },
      "source": [
        "Ytest"
      ],
      "execution_count": 48,
      "outputs": [
        {
          "output_type": "execute_result",
          "data": {
            "text/plain": [
              "array([1, 1, 1, 1, 1, 1, 1, 1, 1, 1, 1, 1, 1, 1, 1, 1, 1, 1, 1, 1, 1, 1,\n",
              "       1, 1, 1, 1, 1, 1, 1, 1, 1, 1, 1, 1, 1, 1, 1, 1, 1, 1, 1, 1, 1, 1,\n",
              "       1, 1, 1, 1, 1, 1, 1, 1, 1, 1, 1, 1, 1, 1, 1, 1, 1, 1, 1, 1, 1, 1,\n",
              "       1, 1, 1, 1, 1, 1, 1, 1, 1, 1, 1, 1, 1, 1, 1, 1, 1, 1, 1, 1, 1, 1,\n",
              "       1, 1, 1, 1, 1, 1, 1, 1, 1, 1, 1, 1, 1, 1, 1, 1, 1, 1, 1, 1, 1, 1,\n",
              "       1, 1, 1, 1, 1, 1, 1, 1, 1, 1, 1, 1, 1, 1, 1, 1, 1, 1, 1, 1, 1, 1,\n",
              "       1, 1, 1, 1, 1, 1, 1, 1, 1, 1, 1, 1, 1, 1, 1, 1, 1, 1, 1, 1, 1, 1,\n",
              "       1, 1, 1, 1, 1, 1, 1, 1, 1, 1, 1, 1, 1, 1, 1, 1, 1, 1, 1, 1, 1, 1,\n",
              "       1, 1, 1, 1, 1, 1, 1, 1, 1, 1, 1, 1, 1, 1, 1, 1, 1, 1, 1, 1, 1, 1,\n",
              "       1, 1, 1, 1, 1, 1, 1, 1, 1, 1, 1, 1, 1, 1, 1, 1, 1, 1, 1, 1, 1, 1,\n",
              "       1, 1, 1, 1, 1, 1, 1, 1, 1, 1, 1, 1, 1, 1, 1, 1, 1, 1, 1, 1, 1, 1,\n",
              "       1, 1, 1, 1, 1, 1, 1, 1, 0, 0, 0, 0, 0, 0, 0, 0, 0, 0, 0, 0, 0, 0,\n",
              "       0, 0, 0, 0, 0, 0, 0, 0, 0, 0, 0, 0, 0, 0, 0, 0, 0, 0, 0, 0, 0, 0,\n",
              "       0, 0, 0, 0, 0, 0, 0, 0, 0, 0, 0, 0, 0, 0, 0, 0, 0, 0, 0, 0, 0, 0,\n",
              "       0, 0, 0, 0, 0, 0, 0, 0, 0, 0, 0, 0, 0, 0, 0, 0, 0, 0, 0, 0, 0, 0,\n",
              "       0, 0, 0, 0, 0, 0, 0, 0, 0, 0, 0, 0, 0, 0, 0, 0, 0, 0, 0, 0, 0, 0,\n",
              "       0, 0, 0, 0, 0, 0, 0, 0, 0, 0, 0, 0, 0, 0, 0, 0, 0, 0, 0, 0, 0, 0,\n",
              "       0, 0, 0, 0, 0, 0, 0, 0, 0, 0, 0, 0, 0, 0, 0, 0, 0, 0, 0, 0, 0, 0,\n",
              "       0, 0, 0, 0, 0, 0, 0, 0, 0, 0, 0, 0, 0, 0, 0, 0, 0, 0, 0, 0, 0, 0,\n",
              "       0, 0, 0, 0, 0, 0, 0, 0, 0, 0, 0, 0, 0, 0, 0, 0, 0, 0, 0, 0, 0, 0,\n",
              "       0, 0, 0, 0, 0, 0, 0, 0, 0, 0, 0, 0, 0, 0, 0, 0, 0, 0, 0, 0, 0, 0,\n",
              "       0, 0, 0, 0, 0, 0, 0, 0, 0, 0, 0, 0, 0, 0, 0, 0, 0, 0, 0, 0, 0, 0,\n",
              "       0, 0, 0, 0, 0, 0, 0, 0, 0, 0, 0, 0, 0, 0, 0, 0])"
            ]
          },
          "metadata": {
            "tags": []
          },
          "execution_count": 48
        }
      ]
    },
    {
      "cell_type": "markdown",
      "metadata": {
        "id": "9ifOKwDxmctI"
      },
      "source": [
        "# SVM"
      ]
    },
    {
      "cell_type": "code",
      "metadata": {
        "colab": {
          "base_uri": "https://localhost:8080/",
          "height": 346
        },
        "id": "vgYaTEywjN1W",
        "outputId": "b1b6582e-aa5d-45dd-81cb-084f72fae61d"
      },
      "source": [
        "import time\n",
        "from sklearn.metrics import accuracy_score, confusion_matrix, classification_report\n",
        "from sklearn.metrics import classification_report\n",
        "\n",
        "start = time.time()\n",
        "\n",
        "from sklearn.svm import SVC\n",
        "clf = SVC(random_state=42)\n",
        "clf.fit(Xtrain, Ytrain)\n",
        "preds = clf.predict(Xtest)\n",
        "\n",
        "print('Running time: %.4f seconds' % (time.time()-start))\n",
        "\n",
        "print(accuracy_score(Ytest, preds))\n",
        "import seaborn as sns\n",
        "cm = confusion_matrix(Ytest, preds)\n",
        "sns.heatmap(cm, annot=True, cbar=False)\n",
        "plt.xlabel('Predicted label')\n",
        "plt.ylabel('True label')\n",
        "plt.title('Confusion Matrix')\n",
        "print(classification_report(Ytest, preds))"
      ],
      "execution_count": 46,
      "outputs": [
        {
          "output_type": "stream",
          "text": [
            "Running time: 49.1730 seconds\n",
            "0.652\n"
          ],
          "name": "stdout"
        },
        {
          "output_type": "execute_result",
          "data": {
            "text/plain": [
              "Text(0.5, 1.0, 'Confusion Matrix')"
            ]
          },
          "metadata": {
            "tags": []
          },
          "execution_count": 46
        },
        {
          "output_type": "display_data",
          "data": {
            "image/png": "[encoded data removed]",
            "text/plain": [
              "<Figure size 432x288 with 1 Axes>"
            ]
          },
          "metadata": {
            "tags": [],
            "needs_background": "light"
          }
        }
      ]
    },
    {
      "cell_type": "markdown",
      "metadata": {
        "id": "bVZkHrkpme92"
      },
      "source": [
        "# Decision tree"
      ]
    },
    {
      "cell_type": "code",
      "metadata": {
        "colab": {
          "base_uri": "https://localhost:8080/",
          "height": 463
        },
        "id": "bN3XOc6ylxPm",
        "outputId": "3552364b-5a8b-4f23-81ed-1200bed4b275"
      },
      "source": [
        "from sklearn.tree import DecisionTreeClassifier\n",
        "from sklearn.metrics import accuracy_score, confusion_matrix, classification_report\n",
        "clf_des = DecisionTreeClassifier(max_depth =3, random_state = 42)\n",
        "clf_des.fit(Xtrain, Ytrain)\n",
        "preds_des=clf_des.predict(Xtest)\n",
        "\n",
        "print(accuracy_score(Ytest, preds_des))\n",
        "cm1 = confusion_matrix(Ytest, preds_des)\n",
        "sns.heatmap(cm1, annot=True, cbar=False)\n",
        "plt.xlabel('Predicted label')\n",
        "plt.ylabel('True label')\n",
        "plt.title('Confusion Matrix')\n",
        "print(classification_report(Ytest, preds_des))"
      ],
      "execution_count": 49,
      "outputs": [
        {
          "output_type": "stream",
          "text": [
            "0.78\n",
            "              precision    recall  f1-score   support\n",
            "\n",
            "           0       0.78      0.78      0.78       250\n",
            "           1       0.78      0.78      0.78       250\n",
            "\n",
            "    accuracy                           0.78       500\n",
            "   macro avg       0.78      0.78      0.78       500\n",
            "weighted avg       0.78      0.78      0.78       500\n",
            "\n"
          ],
          "name": "stdout"
        },
        {
          "output_type": "display_data",
          "data": {
            "image/png": "[encoded data removed]",
            "text/plain": [
              "<Figure size 432x288 with 1 Axes>"
            ]
          },
          "metadata": {
            "tags": [],
            "needs_background": "light"
          }
        }
      ]
    },
    {
      "cell_type": "markdown",
      "metadata": {
        "id": "iLewbZIUmk9X"
      },
      "source": [
        "# Random forest"
      ]
    },
    {
      "cell_type": "code",
      "metadata": {
        "id": "ssRK_Ixkmhah"
      },
      "source": [
        "from sklearn.ensemble import RandomForestClassifier\n",
        "from sklearn.model_selection import GridSearchCV\n",
        "\n",
        "#create a new random forest classifier\n",
        "rf = RandomForestClassifier()\n",
        "#create a dictionary of all values we want to test for n_estimators\n",
        "params_rf = {'n_estimators': [50, 100, 200]}\n",
        "#use gridsearch to test all values for n_estimators\n",
        "rf_gs = GridSearchCV(rf, params_rf, cv=5)\n",
        "#fit model to training data\n",
        "rf_gs.fit(Xtrain, Ytrain)\n",
        "\n",
        "#save best model\n",
        "rf_best = rf_gs.best_estimator_\n",
        "#check best n_estimators value\n",
        "print(rf_gs.best_params_)\n",
        "preds_rf=rf_best.predict(Xtest)\n",
        "cm4 = confusion_matrix(Ytest, preds_rf)\n",
        "sns.heatmap(cm4, annot=True, cbar=False)\n",
        "plt.xlabel('Predicted label')\n",
        "plt.ylabel('True label')\n",
        "plt.title('Confusion Matrix')\n",
        "print(classification_report(Ytest, preds_rf))"
      ],
      "execution_count": null,
      "outputs": []
    },
    {
      "cell_type": "markdown",
      "metadata": {
        "id": "MqeO-_vAnDSq"
      },
      "source": [
        "# KNN"
      ]
    },
    {
      "cell_type": "code",
      "metadata": {
        "id": "uS43UKAjmzdg"
      },
      "source": [
        "from sklearn.model_selection import GridSearchCV\n",
        "from sklearn.neighbors import KNeighborsClassifier\n",
        "#create new a knn model\n",
        "knn = KNeighborsClassifier()#create a dictionary of all values we want to test for n_neighbors\n",
        "\n",
        "#fit model to training data\n",
        "knn.fit(Xtrain, Ytrain)\n",
        "preds_knn=knn.predict(Xtest)\n",
        "cm6 = confusion_matrix(Ytest, preds_knn)\n",
        "sns.heatmap(cm6, annot=True, cbar=False)\n",
        "plt.xlabel('Predicted label')\n",
        "plt.ylabel('True label')\n",
        "plt.title('Confusion Matrix')\n",
        "print(classification_report(Ytest, preds_knn))\n",
        "knn.score(Xtest, Ytest)"
      ],
      "execution_count": null,
      "outputs": []
    },
    {
      "cell_type": "markdown",
      "metadata": {
        "id": "z4RV-nNanJbP"
      },
      "source": [
        "# Ensemble"
      ]
    },
    {
      "cell_type": "code",
      "metadata": {
        "id": "RU6IwLkQnFtx"
      },
      "source": [
        "from sklearn.ensemble import VotingClassifier\n",
        "#create a dictionary of our models\n",
        "estimators=[('knn', knn), ('rf', rf_best), ('svm', clf)]\n",
        "#create our voting classifier, inputting our models\n",
        "ensemble = VotingClassifier(estimators, voting='hard')\n",
        "#fit model to training data\n",
        "ensemble.fit(Xtrain, Ytrain)\n",
        "#test our model on the test dat\n",
        "preds_en=ensemble.predict(Xtest)\n",
        "cm5 = confusion_matrix(Ytest, preds_en)\n",
        "sns.heatmap(cm5, annot=True, cbar=False)\n",
        "plt.xlabel('Predicted label')\n",
        "plt.ylabel('True label')\n",
        "plt.title('Confusion Matrix')\n",
        "print(classification_report(Ytest, preds_en))\n",
        "print(ensemble.score(Xtest, Ytest))"
      ],
      "execution_count": null,
      "outputs": []
    },
    {
      "cell_type": "markdown",
      "metadata": {
        "id": "uSEVDlKEnZ8N"
      },
      "source": [
        "# ELM"
      ]
    },
    {
      "cell_type": "code",
      "metadata": {
        "id": "Db0_dZl5q7Rj"
      },
      "source": [
        "# Final edited date: 2018.3.7\n",
        "# Author: Li Xudong, from NSSC.CAS Beijing\n",
        "# Version: 1.0\n",
        "# Description: Extreme Learning Machine (ELM) class\n",
        "# Methods:\n",
        "#   fit(algorithm)\n",
        "#   predict(x)\n",
        "#   score(x, y)\n",
        "import numpy as np\n",
        "from scipy.linalg import pinv2, inv\n",
        "import time\n",
        "from sklearn.metrics import accuracy_score, confusion_matrix, classification_report\n",
        "import seaborn as sns\n",
        "\n",
        "class elm():\n",
        "    '''\n",
        "    Function: elm class init\n",
        "    -------------------\n",
        "    Parameters:\n",
        "    shape: list, shape[hidden units, output units]\n",
        "        numbers of hidden units and output units\n",
        "    activation_function: str, 'sigmoid', 'relu', 'sin', 'tanh' or 'leaky_relu'\n",
        "        Activation function of neurals\n",
        "    x: array, shape[samples, features]\n",
        "        train data\n",
        "    y: array, shape[samples, ]\n",
        "        labels\n",
        "    C: float\n",
        "        regularization parameter\n",
        "    elm_type: str, 'clf' or 'reg'\n",
        "        'clf' means ELM solve classification problems, 'reg' means ELM solve regression problems.\n",
        "    one_hot: bool, Ture or False, default True \n",
        "        The parameter is useful only when elm_type == 'clf'. If the labels need to transformed to\n",
        "        one_hot, this parameter is set to be True\n",
        "    random_type: str, 'uniform' or 'normal', default:'normal'\n",
        "        Weight initialization method\n",
        "    '''\n",
        "    def __init__(self, hidden_units, activation_function,  x, y, C, elm_type, one_hot=True, random_type='normal'):\n",
        "        self.hidden_units = hidden_units\n",
        "        self.activation_function = activation_function\n",
        "        self.random_type = random_type\n",
        "        self.x = x\n",
        "        self.y = y\n",
        "        self.C = C\n",
        "        self.class_num = np.unique(self.y).shape[0]     \n",
        "        self.beta = np.zeros((self.hidden_units, self.class_num))   \n",
        "        self.elm_type = elm_type\n",
        "        self.one_hot = one_hot\n",
        "\n",
        "        # if classification problem and one_hot == True\n",
        "        if elm_type == 'clf' and self.one_hot:\n",
        "            self.one_hot_label = np.zeros((self.y.shape[0], self.class_num))\n",
        "            for i in range(self.y.shape[0]):\n",
        "                self.one_hot_label[i, int(self.y[i])] = 1\n",
        "\n",
        "        # Randomly generate the weight matrix and bias vector from input to hidden layer\n",
        "        # 'uniform': uniform distribution\n",
        "        # 'normal': normal distribution\n",
        "        if self.random_type == 'uniform':\n",
        "            self.W = np.random.uniform(low=0, high=1, size=(self.hidden_units, self.x.shape[1]))\n",
        "            self.b = np.random.uniform(low=0, high=1, size=(self.hidden_units, 1))\n",
        "        if self.random_type == 'normal':\n",
        "            self.W = np.random.normal(loc=0, scale=0.5, size=(self.hidden_units, self.x.shape[1]))\n",
        "            self.b = np.random.normal(loc=0, scale=0.5, size=(self.hidden_units, 1))\n",
        "\n",
        "    # compute the output of hidden layer according to different activation function\n",
        "    def __input2hidden(self, x):\n",
        "        self.temH = np.dot(self.W, x.T) + self.b\n",
        "\n",
        "        if self.activation_function == 'sigmoid':\n",
        "            self.H = 1/(1 + np.exp(- self.temH))\n",
        "\n",
        "        if self.activation_function == 'relu':\n",
        "            self.H = self.temH * (self.temH > 0)\n",
        "\n",
        "        if self.activation_function == 'sin':\n",
        "            self.H = np.sin(self.temH)\n",
        "\n",
        "        if self.activation_function == 'tanh':\n",
        "            self.H = (np.exp(self.temH) - np.exp(-self.temH))/(np.exp(self.temH) + np.exp(-self.temH))\n",
        "\n",
        "        if self.activation_function == 'leaky_relu':\n",
        "            self.H = np.maximum(0, self.temH) + 0.1 * np.minimum(0, self.temH)\n",
        "\n",
        "        return self.H\n",
        "\n",
        "    # compute the output\n",
        "    def __hidden2output(self, H):\n",
        "        self.output = np.dot(H.T, self.beta)\n",
        "        return self.output\n",
        "\n",
        "    '''\n",
        "    Function: Train the model, compute beta matrix, the weight matrix from hidden layer to output layer\n",
        "    ------------------\n",
        "    Parameter:\n",
        "    algorithm: str, 'no_re', 'solution1' or 'solution2'\n",
        "        The algorithm to compute beta matrix\n",
        "    ------------------\n",
        "    Return:\n",
        "    beta: array\n",
        "        the weight matrix from hidden layer to output layer\n",
        "    train_score: float\n",
        "        the accuracy or RMSE\n",
        "    train_time: str\n",
        "        time of computing beta\n",
        "    '''\n",
        "    def fit(self, algorithm):\n",
        "        self.time1 = time.clock()   # compute running time\n",
        "        self.H = self.__input2hidden(self.x)\n",
        "        if self.elm_type == 'clf':\n",
        "            if self.one_hot:\n",
        "                self.y_temp = self.one_hot_label\n",
        "            else:\n",
        "                self.y_temp = self.y\n",
        "        if self.elm_type == 'reg':\n",
        "            self.y_temp = self.y\n",
        "        # no regularization\n",
        "        if algorithm == 'no_re':\n",
        "            self.beta = np.dot(pinv2(self.H.T), self.y_temp)\n",
        "        # faster algorithm 1\n",
        "        if algorithm == 'solution1':\n",
        "            self.tmp1 = inv(np.eye(self.H.shape[0])/self.C + np.dot(self.H, self.H.T))\n",
        "            self.tmp2 = np.dot(self.tmp1, self.H)\n",
        "            self.beta = np.dot(self.tmp2, self.y_temp)\n",
        "        # faster algorithm 2\n",
        "        if algorithm == 'solution2':\n",
        "            self.tmp1 = inv(np.eye(self.H.shape[0])/self.C + np.dot(self.H, self.H.T))\n",
        "            self.tmp2 = np.dot(self.H.T, self.tmp1)\n",
        "            self.beta = np.dot(self.tmp2.T, self.y_temp)\n",
        "        self.time2 = time.clock()\n",
        "\n",
        "        # compute the results\n",
        "        self.result = self.__hidden2output(self.H)\n",
        "        # If the problem if classification problem, the output is softmax\n",
        "        if self.elm_type == 'clf':\n",
        "            self.result = np.exp(self.result)/np.sum(np.exp(self.result), axis=1).reshape(-1, 1)\n",
        "\n",
        "        # Evaluate training results\n",
        "        # If problem is classification, compute the accuracy\n",
        "        # If problem is regression, compute the RMSE\n",
        "        if self.elm_type == 'clf':\n",
        "            self.y_ = np.where(self.result == np.max(self.result, axis=1).reshape(-1, 1))[1]\n",
        "            self.correct = 0\n",
        "            for i in range(self.y.shape[0]):\n",
        "                if self.y_[i] == self.y[i]:\n",
        "                    self.correct += 1\n",
        "            self.train_score = self.correct/self.y.shape[0]\n",
        "        if self.elm_type == 'reg':\n",
        "            self.train_score = np.sqrt(np.sum((self.result - self.y) * (self.result - self.y))/self.y.shape[0])\n",
        "        train_time = str(self.time2 - self.time1)\n",
        "        return self.beta, self.train_score, train_time\n",
        "\n",
        "    '''\n",
        "    Function: compute the result given data\n",
        "    ---------------\n",
        "    Parameters:\n",
        "    x: array, shape[samples, features]\n",
        "    ---------------\n",
        "    Return:\n",
        "    y_: array\n",
        "        predicted results\n",
        "    '''\n",
        "    def predict(self, x):\n",
        "        self.H = self.__input2hidden(x)\n",
        "        self.y_ = self.__hidden2output(self.H)\n",
        "        if self.elm_type == 'clf':\n",
        "            self.y_ = np.where(self.y_ == np.max(self.y_, axis=1).reshape(-1, 1))[1]\n",
        "\n",
        "        return self.y_\n",
        "\n",
        "    '''\n",
        "    Function: compute accuracy or RMSE given data and labels\n",
        "    -------------\n",
        "    Parameters:\n",
        "    x: array, shape[samples, features]\n",
        "    y: array, shape[samples, ]\n",
        "    -------------\n",
        "    Return:\n",
        "    test_score: float, accuracy or RMSE\n",
        "    '''\n",
        "    def score(self, x, y):\n",
        "        self.prediction = self.predict(x)\n",
        "        if self.elm_type == 'clf':\n",
        "            self.correct = 0\n",
        "            for i in range(y.shape[0]):\n",
        "                if self.prediction[i] == y[i]:\n",
        "                    self.correct += 1\n",
        "            self.test_score = self.correct/y.shape[0]\n",
        "        if self.elm_type == 'reg':\n",
        "            self.test_score = np.sqrt(np.sum((self.result - self.y) * (self.result - self.y))/self.y.shape[0])\n",
        "\n",
        "        return self.test_score\n",
        "\n",
        "\n",
        "\n",
        "\n",
        "\n",
        "model = elm(hidden_units=32, activation_function='relu', random_type='normal', x=Xtrain, y=Ytrain, C=0.1, elm_type='clf')\n",
        "beta, train_accuracy, running_time = model.fit('solution2')\n",
        "print(\"classifier beta:\\n\", beta)\n",
        "print(\"classifier train accuracy:\", train_accuracy)\n",
        "print('classifier running time:', running_time)\n",
        "prediction = model.predict(Xtest)\n",
        "print('classifier test accuracy:', model.score(Xtest, Ytest))\n",
        "\n",
        "preds_elm=model.predict(Xtest)\n",
        "cm8 = confusion_matrix(Ytest, preds_elm)\n",
        "sns.heatmap(cm8, annot=True, cbar=False)\n",
        "plt.xlabel('Predicted label')\n",
        "plt.ylabel('True label')\n",
        "plt.title('Confusion Matrix')\n",
        "print(classification_report(Ytest, preds_elm))\n"
      ],
      "execution_count": null,
      "outputs": []
    },
    {
      "cell_type": "markdown",
      "metadata": {
        "id": "Z3Oc7zlPoaZY"
      },
      "source": [
        "# Feature extraction using VGG"
      ]
    },
    {
      "cell_type": "code",
      "metadata": {
        "id": "ZGtK6P4UoYqj"
      },
      "source": [
        ""
      ],
      "execution_count": null,
      "outputs": []
    }
  ]
}